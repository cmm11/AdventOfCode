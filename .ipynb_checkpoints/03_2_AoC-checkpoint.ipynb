{
 "cells": [
  {
   "cell_type": "code",
   "execution_count": 1,
   "metadata": {},
   "outputs": [],
   "source": [
    "fname = \"/Users/carmenmerx/Documents/GitHub/AdventOfCode/03AoCInput.txt\"\n",
    "with open(fname) as f:\n",
    "    content = f.readlines()"
   ]
  },
  {
   "cell_type": "code",
   "execution_count": 2,
   "metadata": {},
   "outputs": [],
   "source": [
    "content = [x.strip() for x in content] "
   ]
  },
  {
   "cell_type": "code",
   "execution_count": 97,
   "metadata": {},
   "outputs": [],
   "source": [
    "content = [\"#1 @ 1,3: 4x4\", \"#2 @ 3,1: 4x4\", \"#3 @ 5,5: 2x2\"]"
   ]
  },
  {
   "cell_type": "code",
   "execution_count": 3,
   "metadata": {},
   "outputs": [],
   "source": [
    "import numpy as np\n",
    "\n",
    "fabric = np.zeros((1000,1000))\n",
    "squares = []\n",
    "for i in content:\n",
    "    \n",
    "    overlap = False\n",
    "    split = i.split(\" \")\n",
    "    #square_id = int(split[0].split(\"#\")[1])\n",
    "    position = split[2].split(\",\")\n",
    "    position_x = int(position[0])\n",
    "    position_y = int(position[1].split(\":\")[0])\n",
    "    size = split[3].split(\"x\")\n",
    "    size_x = int(size[0])\n",
    "    size_y = int(size[1])\n",
    "    #squares.append([square_id, size_x*size_y])\n",
    "    \n",
    "    for i in range(position_x, position_x + size_x):\n",
    "        for j in range(position_y, position_y + size_y):\n",
    "            \n",
    "            fabric[i][j] += 1\n",
    "            #if fabric[i][j] > 0:\n",
    "             #   fabric[i][j] += 100000\n",
    "            #fabric[i][j] += square_id\n",
    "    "
   ]
  },
  {
   "cell_type": "code",
   "execution_count": null,
   "metadata": {},
   "outputs": [],
   "source": [
    "import numpy as np\n",
    "\n",
    "fabric = np.zeros((1000,1000))\n",
    "squares = []\n",
    "for i in content:\n",
    "    \n",
    "    overlap = False\n",
    "    split = i.split(\" \")\n",
    "    square_id = int(split[0].split(\"#\")[1])\n",
    "    position = split[2].split(\",\")\n",
    "    position_x = int(position[0])\n",
    "    position_y = int(position[1].split(\":\")[0])\n",
    "    size = split[3].split(\"x\")\n",
    "    size_x = int(size[0])\n",
    "    size_y = int(size[1])\n",
    "    squares.append([square_id, size_x*size_y])\n",
    "    \n",
    "    for i in range(position_x, position_x + size_x):\n",
    "        for j in range(position_y, position_y + size_y):\n",
    "            \n",
    "            if fabric[i][j] > 0:\n",
    "                fabric[i][j] += 100000\n",
    "            fabric[i][j] += square_id\n",
    "    "
   ]
  },
  {
   "cell_type": "code",
   "execution_count": 135,
   "metadata": {},
   "outputs": [
    {
     "data": {
      "text/plain": [
       "array([[  0.,   0.,   0.,   0.,   0.,   0.,   0.,   0.,   0.,   0.],\n",
       "       [  0.,   0.,   0.,   1.,   1.,   1.,   1.,   0.,   0.,   0.],\n",
       "       [  0.,   0.,   0.,   1.,   1.,   1.,   1.,   0.,   0.,   0.],\n",
       "       [  0.,   2.,   2., 103., 103.,   1.,   1.,   0.,   0.,   0.],\n",
       "       [  0.,   2.,   2., 103., 103.,   1.,   1.,   0.,   0.,   0.],\n",
       "       [  0.,   2.,   2.,   2.,   2.,   3.,   3.,   0.,   0.,   0.],\n",
       "       [  0.,   2.,   2.,   2.,   2.,   3.,   3.,   0.,   0.,   0.],\n",
       "       [  0.,   0.,   0.,   0.,   0.,   0.,   0.,   0.,   0.,   0.],\n",
       "       [  0.,   0.,   0.,   0.,   0.,   0.,   0.,   0.,   0.,   0.],\n",
       "       [  0.,   0.,   0.,   0.,   0.,   0.,   0.,   0.,   0.,   0.]])"
      ]
     },
     "execution_count": 135,
     "metadata": {},
     "output_type": "execute_result"
    }
   ],
   "source": [
    "fabric"
   ]
  },
  {
   "cell_type": "code",
   "execution_count": 143,
   "metadata": {},
   "outputs": [
    {
     "name": "stdout",
     "output_type": "stream",
     "text": [
      "412\n"
     ]
    }
   ],
   "source": [
    "for square in squares:\n",
    "    summe = np.sum(fabric == square[0])\n",
    "    if summe == square[1]:\n",
    "        print(square[0])\n",
    "\n",
    "\n"
   ]
  },
  {
   "cell_type": "code",
   "execution_count": 4,
   "metadata": {},
   "outputs": [
    {
     "data": {
      "text/plain": [
       "118223"
      ]
     },
     "execution_count": 4,
     "metadata": {},
     "output_type": "execute_result"
    }
   ],
   "source": [
    "(np.sum(fabric > 1)) "
   ]
  },
  {
   "cell_type": "code",
   "execution_count": null,
   "metadata": {},
   "outputs": [],
   "source": []
  },
  {
   "cell_type": "code",
   "execution_count": 27,
   "metadata": {},
   "outputs": [],
   "source": [
    "content[0] = '#1 @ 2,1: 2x2'\n",
    "\n",
    "split = content[0].split(\" \")\n",
    "position = split[2].split(\",\")\n",
    "position_x = int(position[0])\n",
    "position_y = int(position[1].split(\":\")[0])\n",
    "size = split[3].split(\"x\")\n",
    "size_x = int(size[0])\n",
    "size_y = int(size[1])"
   ]
  },
  {
   "cell_type": "code",
   "execution_count": 59,
   "metadata": {},
   "outputs": [
    {
     "data": {
      "text/plain": [
       "array([[0., 0., 0., ..., 0., 0., 0.],\n",
       "       [0., 0., 0., ..., 0., 0., 0.],\n",
       "       [0., 0., 0., ..., 0., 0., 0.],\n",
       "       ...,\n",
       "       [0., 0., 0., ..., 0., 0., 0.],\n",
       "       [0., 0., 0., ..., 0., 0., 0.],\n",
       "       [0., 0., 0., ..., 0., 0., 0.]])"
      ]
     },
     "execution_count": 59,
     "metadata": {},
     "output_type": "execute_result"
    }
   ],
   "source": [
    "fabric"
   ]
  },
  {
   "cell_type": "code",
   "execution_count": 19,
   "metadata": {},
   "outputs": [
    {
     "name": "stdout",
     "output_type": "stream",
     "text": [
      "asgwjcmzredihqoutcylvzinx\n"
     ]
    }
   ],
   "source": [
    "import itertools\n",
    "for a, b in itertools.combinations(content, 2):  \n",
    "    \n",
    "    a = list(a)\n",
    "    b = list(b)\n",
    "    \n",
    "    diff = [a[i] != b[i] for i in range(len(a))]\n",
    "    if (sum(diff) == 1):\n",
    "        ind = diff.index(True)\n",
    "        del a[ind]\n",
    "        print(\"\".join(a))\n"
   ]
  },
  {
   "cell_type": "code",
   "execution_count": 17,
   "metadata": {},
   "outputs": [
    {
     "data": {
      "text/plain": [
       "'r'"
      ]
     },
     "execution_count": 17,
     "metadata": {},
     "output_type": "execute_result"
    }
   ],
   "source": [
    "t = 'Carmen'\n",
    "t[2]"
   ]
  },
  {
   "cell_type": "code",
   "execution_count": 15,
   "metadata": {},
   "outputs": [
    {
     "name": "stdout",
     "output_type": "stream",
     "text": [
      "ab\n"
     ]
    }
   ],
   "source": [
    "a = ['a', 'b', 'c']\n",
    "b = ['a', 'b', 'e']\n",
    "temp = [a[i] == b[i] for i in range(len(a))]\n",
    "if (sum(temp) == len(a) -1):\n",
    "    ind = temp.index(False)\n",
    "    del a[ind]\n",
    "    print(\"\".join(a))"
   ]
  }
 ],
 "metadata": {
  "kernelspec": {
   "display_name": "Python 3",
   "language": "python",
   "name": "python3"
  },
  "language_info": {
   "codemirror_mode": {
    "name": "ipython",
    "version": 3
   },
   "file_extension": ".py",
   "mimetype": "text/x-python",
   "name": "python",
   "nbconvert_exporter": "python",
   "pygments_lexer": "ipython3",
   "version": "3.7.0"
  }
 },
 "nbformat": 4,
 "nbformat_minor": 2
}
