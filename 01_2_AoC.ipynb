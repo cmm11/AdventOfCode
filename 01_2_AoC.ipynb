{
 "cells": [
  {
   "cell_type": "code",
   "execution_count": 18,
   "metadata": {},
   "outputs": [],
   "source": [
    "\n",
    "fname = \"/Users/carmenmerx/Desktop/01AoCInput.txt\"\n",
    "with open(fname) as f:\n",
    "    content = f.readlines()\n",
    "    \n",
    "content = [x.strip() for x in content] \n",
    "\n"
   ]
  },
  {
   "cell_type": "code",
   "execution_count": 21,
   "metadata": {},
   "outputs": [
    {
     "name": "stdout",
     "output_type": "stream",
     "text": [
      "Result =  75108\n"
     ]
    }
   ],
   "source": [
    "#content = [+3, +3, +4, -2, -4]\n",
    "\n",
    "freq = 0\n",
    "frequencies = set()\n",
    "\n",
    "#print(freq)\n",
    "\n",
    "while freq not in frequencies:\n",
    "    \n",
    "    for i in content:\n",
    "        \n",
    "        if freq in frequencies:\n",
    "            break\n",
    "        else:\n",
    "            frequencies.add(freq)\n",
    "        \n",
    "     #   print(\"i = \", i)\n",
    "        freq = freq + int(i)\n",
    "        \n",
    "     #   print(\"Freq = \", freq)\n",
    "        \n",
    "\n",
    "print(\"Result = \", freq)"
   ]
  },
  {
   "cell_type": "code",
   "execution_count": null,
   "metadata": {},
   "outputs": [],
   "source": []
  }
 ],
 "metadata": {
  "kernelspec": {
   "display_name": "Python 3",
   "language": "python",
   "name": "python3"
  },
  "language_info": {
   "codemirror_mode": {
    "name": "ipython",
    "version": 3
   },
   "file_extension": ".py",
   "mimetype": "text/x-python",
   "name": "python",
   "nbconvert_exporter": "python",
   "pygments_lexer": "ipython3",
   "version": "3.7.0"
  }
 },
 "nbformat": 4,
 "nbformat_minor": 2
}
