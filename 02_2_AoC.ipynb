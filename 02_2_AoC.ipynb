{
 "cells": [
  {
   "cell_type": "code",
   "execution_count": 1,
   "metadata": {},
   "outputs": [],
   "source": [
    "fname = \"/Users/carmenmerx/Desktop/01AoCInput.txt\"\n",
    "with open(fname) as f:\n",
    "    content = f.readlines()"
   ]
  },
  {
   "cell_type": "code",
   "execution_count": 2,
   "metadata": {},
   "outputs": [],
   "source": [
    "content = [x.strip() for x in content] "
   ]
  },
  {
   "cell_type": "code",
   "execution_count": 19,
   "metadata": {},
   "outputs": [
    {
     "name": "stdout",
     "output_type": "stream",
     "text": [
      "asgwjcmzredihqoutcylvzinx\n"
     ]
    }
   ],
   "source": [
    "import itertools\n",
    "for a, b in itertools.combinations(content, 2):  \n",
    "    \n",
    "    a = list(a)\n",
    "    b = list(b)\n",
    "    \n",
    "    diff = [a[i] != b[i] for i in range(len(a))]\n",
    "    if (sum(diff) == 1):\n",
    "        ind = diff.index(True)\n",
    "        del a[ind]\n",
    "        print(\"\".join(a))\n"
   ]
  },
  {
   "cell_type": "code",
   "execution_count": 17,
   "metadata": {},
   "outputs": [
    {
     "data": {
      "text/plain": [
       "'r'"
      ]
     },
     "execution_count": 17,
     "metadata": {},
     "output_type": "execute_result"
    }
   ],
   "source": [
    "t = 'Carmen'\n",
    "t[2]"
   ]
  },
  {
   "cell_type": "code",
   "execution_count": 15,
   "metadata": {},
   "outputs": [
    {
     "name": "stdout",
     "output_type": "stream",
     "text": [
      "ab\n"
     ]
    }
   ],
   "source": [
    "a = ['a', 'b', 'c']\n",
    "b = ['a', 'b', 'e']\n",
    "temp = [a[i] == b[i] for i in range(len(a))]\n",
    "if (sum(temp) == len(a) -1):\n",
    "    ind = temp.index(False)\n",
    "    del a[ind]\n",
    "    print(\"\".join(a))"
   ]
  }
 ],
 "metadata": {
  "kernelspec": {
   "display_name": "Python 3",
   "language": "python",
   "name": "python3"
  },
  "language_info": {
   "codemirror_mode": {
    "name": "ipython",
    "version": 3
   },
   "file_extension": ".py",
   "mimetype": "text/x-python",
   "name": "python",
   "nbconvert_exporter": "python",
   "pygments_lexer": "ipython3",
   "version": "3.7.0"
  }
 },
 "nbformat": 4,
 "nbformat_minor": 2
}
