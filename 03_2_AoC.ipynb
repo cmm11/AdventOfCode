{
 "cells": [
  {
   "cell_type": "code",
   "execution_count": 1,
   "metadata": {},
   "outputs": [],
   "source": [
    "fname = \"/Users/carmenmerx/Documents/GitHub/AdventOfCode/03AoCInput.txt\"\n",
    "with open(fname) as f:\n",
    "    content = f.readlines()\n",
    "content = [x.strip() for x in content] "
   ]
  },
  {
   "cell_type": "code",
   "execution_count": null,
   "metadata": {},
   "outputs": [],
   "source": [
    "import numpy as np\n",
    "\n",
    "fabric = np.zeros((1000,1000))\n",
    "squares = []\n",
    "for i in content:\n",
    "    \n",
    "    split = i.split(\" \")\n",
    "    square_id = int(split[0].split(\"#\")[1])\n",
    "    position = split[2].split(\",\")\n",
    "    position_x = int(position[0])\n",
    "    position_y = int(position[1].split(\":\")[0])\n",
    "    size = split[3].split(\"x\")\n",
    "    size_x = int(size[0])\n",
    "    size_y = int(size[1])\n",
    "    squares.append([square_id, size_x*size_y])\n",
    "    \n",
    "    for i in range(position_x, position_x + size_x):\n",
    "        for j in range(position_y, position_y + size_y):\n",
    "            \n",
    "            if fabric[i][j] > 0:\n",
    "                fabric[i][j] += 100000\n",
    "            fabric[i][j] += square_id\n",
    "    "
   ]
  },
  {
   "cell_type": "code",
   "execution_count": 143,
   "metadata": {},
   "outputs": [
    {
     "name": "stdout",
     "output_type": "stream",
     "text": [
      "412\n"
     ]
    }
   ],
   "source": [
    "for square in squares:\n",
    "    summe = np.sum(fabric == square[0])\n",
    "    if summe == square[1]:\n",
    "        print(square[0])\n"
   ]
  }
 ],
 "metadata": {
  "kernelspec": {
   "display_name": "Python 3",
   "language": "python",
   "name": "python3"
  },
  "language_info": {
   "codemirror_mode": {
    "name": "ipython",
    "version": 3
   },
   "file_extension": ".py",
   "mimetype": "text/x-python",
   "name": "python",
   "nbconvert_exporter": "python",
   "pygments_lexer": "ipython3",
   "version": "3.7.0"
  }
 },
 "nbformat": 4,
 "nbformat_minor": 2
}
