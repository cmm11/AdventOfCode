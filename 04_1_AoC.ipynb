{
 "cells": [
  {
   "cell_type": "code",
   "execution_count": 106,
   "metadata": {},
   "outputs": [],
   "source": [
    "fname = \"/Users/carmenmerx/Documents/GitHub/AdventOfCode/04AoCInput.txt\"\n",
    "with open(fname) as f:\n",
    "    content = f.readlines()\n",
    "content = [x.strip() for x in content] "
   ]
  },
  {
   "cell_type": "code",
   "execution_count": 109,
   "metadata": {},
   "outputs": [],
   "source": [
    "import numpy as np\n",
    "import pandas as pd\n",
    "import datetime\n",
    "from dateutil.relativedelta import relativedelta\n",
    "\n",
    "df = pd.DataFrame(columns = [\"Timestamp\", \"Guard\", \"Action\"])\n",
    "\n",
    "for i in content:\n",
    "    guard = np.nan\n",
    "    split = i.split(\"]\")\n",
    "    action = split[1].strip()\n",
    "    if (len(action.split(\" \")) == 4):\n",
    "        guard = action.split(\" \")[1]\n",
    "        action = \" \".join([action.split(\" \")[2], action.split(\" \")[3]])\n",
    "    timestamp = split[0].split(\"[\")[1].strip()\n",
    "    timestamp = datetime.datetime.strptime(timestamp, \"%Y-%m-%d  %H:%M\")\n",
    "    timestamp = timestamp + relativedelta(years=500)\n",
    "    timestamp = pd.to_datetime(timestamp)\n",
    "\n",
    "\n",
    "    df = df.append({\"Timestamp\" : timestamp, \"Guard\": guard, \"Action\" : action}, ignore_index=True)\n",
    "\n",
    "df = df.sort_values(by = \"Timestamp\")\n",
    "df = df.fillna(method = \"ffill\")"
   ]
  },
  {
   "cell_type": "code",
   "execution_count": 100,
   "metadata": {},
   "outputs": [],
   "source": [
    "guards = {}\n",
    "minutes_guard = {}\n",
    "\n",
    "for i in range(0, df.shape[0]):\n",
    "    \n",
    "    minutes = np.zeros(60)\n",
    "\n",
    "    if (df.iloc[i][\"Action\"] == \"falls asleep\"):\n",
    "        start = df.iloc[i][\"Timestamp\"].minute\n",
    "        end = df.iloc[i+1][\"Timestamp\"].minute\n",
    "        diff = end - start\n",
    "        guard = df.iloc[i][\"Guard\"]\n",
    "        \n",
    "        for j in range(start, end):\n",
    "            minutes[j] += 1\n",
    "        if guard not in guards:\n",
    "            guards[guard] = diff\n",
    "        else:\n",
    "            guards[guard] += diff\n",
    "            \n",
    "        if guard not in minutes_guard:\n",
    "            minutes_guard[guard] = minutes\n",
    "        else: \n",
    "            minutes_guard[guard] = [x + y for x, y in zip(minutes_guard[guard], minutes)]\n",
    "\n"
   ]
  },
  {
   "cell_type": "code",
   "execution_count": 101,
   "metadata": {},
   "outputs": [
    {
     "name": "stdout",
     "output_type": "stream",
     "text": [
      "529\n",
      "#3491\n"
     ]
    }
   ],
   "source": [
    "maximum = 0\n",
    "max_guard = \"\"\n",
    "\n",
    "for guard in guards:\n",
    "    if guards[guard] > maximum:\n",
    "        maximum = guards[guard]\n",
    "        max_guard = guard\n",
    "print(maximum)\n",
    "print(max_guard)"
   ]
  },
  {
   "cell_type": "code",
   "execution_count": 104,
   "metadata": {},
   "outputs": [
    {
     "name": "stdout",
     "output_type": "stream",
     "text": [
      "17.0\n",
      "24\n",
      "#1327\n"
     ]
    }
   ],
   "source": [
    "maximum_min = 0\n",
    "min_index = 99\n",
    "max_guard = \"\"\n",
    "\n",
    "for guard in minutes_guard:\n",
    "    if max(minutes_guard[guard]) > maximum_min:\n",
    "        maximum_min = max(minutes_guard[guard])\n",
    "        min_index = minutes_guard[guard].index(maximum_min)\n",
    "        max_guard = guard\n",
    "print(maximum_min)\n",
    "print(min_index)\n",
    "print(max_guard)"
   ]
  },
  {
   "cell_type": "code",
   "execution_count": 102,
   "metadata": {},
   "outputs": [
    {
     "data": {
      "text/plain": [
       "42"
      ]
     },
     "execution_count": 102,
     "metadata": {},
     "output_type": "execute_result"
    }
   ],
   "source": [
    "minutes_guard[max_guard].index(max(minutes_guard[max_guard]))"
   ]
  },
  {
   "cell_type": "code",
   "execution_count": 105,
   "metadata": {},
   "outputs": [
    {
     "data": {
      "text/plain": [
       "31848"
      ]
     },
     "execution_count": 105,
     "metadata": {},
     "output_type": "execute_result"
    }
   ],
   "source": [
    "24*1327"
   ]
  }
 ],
 "metadata": {
  "kernelspec": {
   "display_name": "Python 3",
   "language": "python",
   "name": "python3"
  },
  "language_info": {
   "codemirror_mode": {
    "name": "ipython",
    "version": 3
   },
   "file_extension": ".py",
   "mimetype": "text/x-python",
   "name": "python",
   "nbconvert_exporter": "python",
   "pygments_lexer": "ipython3",
   "version": "3.7.0"
  }
 },
 "nbformat": 4,
 "nbformat_minor": 2
}
